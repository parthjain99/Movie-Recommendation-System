{
 "cells": [
  {
   "cell_type": "code",
   "execution_count": 1,
   "id": "034f3412-7377-4b10-9572-db821def7f3b",
   "metadata": {},
   "outputs": [],
   "source": [
    "import pandas as pd\n",
    "import json\n",
    "import ast\n",
    "from tqdm import tqdm"
   ]
  },
  {
   "cell_type": "code",
   "execution_count": 2,
   "id": "79bfa4a9-1e56-49e8-875a-a9f1d0ecee7e",
   "metadata": {},
   "outputs": [],
   "source": [
    "tqdm.pandas()"
   ]
  },
  {
   "cell_type": "code",
   "execution_count": 3,
   "id": "e5a18d95-0aa7-4ff4-8caf-9a6a2c846ece",
   "metadata": {},
   "outputs": [],
   "source": [
    "with open('Cell_Phones_and_Accessories_5.json','r') as f:\n",
    "    lines = f.readlines()\n",
    "    #data = json.load(f)"
   ]
  },
  {
   "cell_type": "code",
   "execution_count": 4,
   "id": "4dcd89b0",
   "metadata": {},
   "outputs": [
    {
     "data": {
      "text/plain": [
       "1128437"
      ]
     },
     "execution_count": 4,
     "metadata": {},
     "output_type": "execute_result"
    }
   ],
   "source": [
    "len(lines)"
   ]
  },
  {
   "cell_type": "code",
   "execution_count": 5,
   "id": "d2f31ad1",
   "metadata": {},
   "outputs": [],
   "source": [
    "# lines[0]"
   ]
  },
  {
   "cell_type": "code",
   "execution_count": 5,
   "id": "3abce67d",
   "metadata": {},
   "outputs": [
    {
     "name": "stderr",
     "output_type": "stream",
     "text": [
      "100%|███████████████████████████████████████████████████████████| 1128437/1128437 [04:36<00:00, 4086.31it/s]\n"
     ]
    }
   ],
   "source": [
    "#data = pd.DataFrame(columns=['user_id','product_id','rating','timestamp'])\n",
    "data = []\n",
    "cols = ['user_id','product_id','rating','timestamp', 'review']\n",
    "#cols = list(data.columns)\n",
    "for i in tqdm(lines):\n",
    "    dict_i = json.loads(i)\n",
    "    rating = dict_i['overall']\n",
    "    user_id = dict_i['reviewerID']\n",
    "    product_id = dict_i['asin']\n",
    "    timestamp = dict_i['unixReviewTime']\n",
    "    if 'reviewText' in dict_i:\n",
    "        review = dict_i['reviewText']\n",
    "    else:\n",
    "        review = \"\"\n",
    "    ser = pd.Series([user_id, product_id, rating, timestamp, review], index=cols)\n",
    "    data.append(ser)"
   ]
  },
  {
   "cell_type": "code",
   "execution_count": 6,
   "id": "a0ce5e2d",
   "metadata": {},
   "outputs": [],
   "source": [
    "data_df = pd.DataFrame(data)"
   ]
  },
  {
   "cell_type": "code",
   "execution_count": 7,
   "id": "e18d3ac6",
   "metadata": {},
   "outputs": [],
   "source": [
    "data_df.to_csv('accessories.csv',index=False)"
   ]
  },
  {
   "cell_type": "code",
   "execution_count": 8,
   "id": "07088a52-bc53-4204-baf4-d526b2b261b2",
   "metadata": {},
   "outputs": [],
   "source": [
    "def get_train_test_split(user_df):\n",
    "    if user_df.shape[0] == 1:\n",
    "        user_df['split'] = 'train'\n",
    "        return user_df\n",
    "    \n",
    "    train_size=0.8\n",
    "    train_index = int(train_size*user_df.shape[0])\n",
    "    df_train = user_df[0:train_index]\n",
    "    df_rem = user_df[train_index:]\n",
    "    \n",
    "    df_train['split'] = 'train'\n",
    "    df_rem['split'] = 'test'\n",
    "    \n",
    "    return pd.concat([df_train,df_rem])"
   ]
  },
  {
   "cell_type": "code",
   "execution_count": 9,
   "id": "114ffac8-8c30-4c33-b4a0-09deb58a7051",
   "metadata": {
    "tags": []
   },
   "outputs": [
    {
     "name": "stderr",
     "output_type": "stream",
     "text": [
      "100%|██████████████████████████████████████████████████████████████| 157212/157212 [03:19<00:00, 787.56it/s]\n"
     ]
    }
   ],
   "source": [
    "new_data = data_df.groupby(['user_id']).progress_apply(get_train_test_split).reset_index(drop=True)"
   ]
  },
  {
   "cell_type": "code",
   "execution_count": null,
   "id": "2b8bfd58-7395-4be2-b73a-71c261897485",
   "metadata": {},
   "outputs": [],
   "source": [
    "train = new_data[new_data['split'] == 'train']\n",
    "train.to_csv('train.csv',index=False)"
   ]
  },
  {
   "cell_type": "code",
   "execution_count": null,
   "id": "341fa57c-5a5d-4909-8172-a9b97422c018",
   "metadata": {},
   "outputs": [],
   "source": [
    "test = new_data[new_data['split'] == 'test']\n",
    "test.to_csv('test.csv',index=False)"
   ]
  },
  {
   "cell_type": "code",
   "execution_count": null,
   "id": "873dd580-d20a-48d2-bce4-4aa97d5dca66",
   "metadata": {},
   "outputs": [],
   "source": [
    "train.shape, test.shape"
   ]
  },
  {
   "cell_type": "code",
   "execution_count": null,
   "id": "906c8613",
   "metadata": {},
   "outputs": [],
   "source": []
  }
 ],
 "metadata": {
  "kernelspec": {
   "display_name": "Python 3.8",
   "language": "python",
   "name": "python3"
  },
  "language_info": {
   "codemirror_mode": {
    "name": "ipython",
    "version": 3
   },
   "file_extension": ".py",
   "mimetype": "text/x-python",
   "name": "python",
   "nbconvert_exporter": "python",
   "pygments_lexer": "ipython3",
   "version": "3.8.10"
  }
 },
 "nbformat": 4,
 "nbformat_minor": 5
}
